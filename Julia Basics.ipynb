{
 "cells": [
  {
   "attachments": {},
   "cell_type": "markdown",
   "metadata": {},
   "source": [
    "# Julia Basics"
   ]
  },
  {
   "attachments": {},
   "cell_type": "markdown",
   "metadata": {},
   "source": [
    "Julia is a high-level, high-performance dynamic programming language for technical computing. It is a general-purpose language and can be used to write any application. While it is a general-purpose language, many of its features are well-suited for numerical analysis and computational science. \n",
    "\n",
    "In this notebook, I will cover the basics of Julia. I will cover the following topics:\n",
    "\n",
    "* Basic data types\n",
    "* Variables\n",
    "* Arrays\n",
    "* Loops\n",
    "* Functions\n",
    "* Plotting"
   ]
  },
  {
   "attachments": {},
   "cell_type": "markdown",
   "metadata": {},
   "source": [
    "## Variables"
   ]
  },
  {
   "attachments": {},
   "cell_type": "markdown",
   "metadata": {},
   "source": [
    "Variables are used to store data. In Julia, variables are created using the `=` operator. For example, to create a variable `x` with the value `1`, we can do the following:\n",
    "```julia\n",
    "    x = 1\n",
    "```"
   ]
  },
  {
   "cell_type": "code",
   "execution_count": 15,
   "metadata": {},
   "outputs": [
    {
     "name": "stdout",
     "output_type": "stream",
     "text": [
      "Averge Speed is 5.93253856150065\n",
      "\n",
      "Type of average_speed variable is Float64\n"
     ]
    }
   ],
   "source": [
    "# Create variable monday_distance\n",
    "monday_distance = 4500\n",
    "\n",
    "# Create variable monday_time\n",
    "monday_time = 28.9\n",
    "\n",
    "# Create variable wednesday_distance\n",
    "wednesday_distance = 6000\n",
    "\n",
    "# Create variable wednesday_time\n",
    "wednesday_time = 37.1\n",
    "\n",
    "# Calculate the total distance in miles\n",
    "total_distance = (monday_distance + wednesday_distance)/1609\n",
    "\n",
    "# Calculate the total run time in hours\n",
    "total_time = (monday_time + wednesday_time)/60\n",
    "\n",
    "# Calculate the average speed\n",
    "average_speed = total_distance / total_time\n",
    "\n",
    "# Print the average speed\n",
    "println(\"Averge Speed is $average_speed\")\n",
    "println()\n",
    "x = typeof(average_speed)\n",
    "\n",
    "# Printing the type of average_speed\n",
    "println(\"Type of average_speed variable is $x\")\n",
    "\n",
    "#=\n",
    "We can use a pound sign to comment out multiple lines of code.\n",
    "=#"
   ]
  },
  {
   "attachments": {},
   "cell_type": "markdown",
   "metadata": {},
   "source": [
    "## Syntax for Basic Math"
   ]
  },
  {
   "attachments": {},
   "cell_type": "markdown",
   "metadata": {},
   "source": [
    "Julia supports the usual mathematical operators: `+`, `-`, `*`, `/`, `^` (power), and `%` (modulo). Parentheses `()` are used to define the order of operations. For example, the standard order of operations is followed, so that `2 + 3 * 4` is `14`, and `(2 + 3) * 4` is `20`."
   ]
  },
  {
   "cell_type": "code",
   "execution_count": 19,
   "metadata": {},
   "outputs": [
    {
     "name": "stdout",
     "output_type": "stream",
     "text": [
      "5\n",
      "1\n",
      "6\n",
      "1.5\n",
      "9\n",
      "1\n"
     ]
    }
   ],
   "source": [
    "println(3+2)\n",
    "println(3-2)\n",
    "println(3*2)\n",
    "println(3/2)\n",
    "println(3^2)\n",
    "println(3%2)"
   ]
  }
 ],
 "metadata": {
  "kernelspec": {
   "display_name": "Julia 1.8.5",
   "language": "julia",
   "name": "julia-1.8"
  },
  "language_info": {
   "file_extension": ".jl",
   "mimetype": "application/julia",
   "name": "julia",
   "version": "1.8.5"
  },
  "orig_nbformat": 4
 },
 "nbformat": 4,
 "nbformat_minor": 2
}
